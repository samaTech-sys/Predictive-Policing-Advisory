{
 "cells": [
  {
   "cell_type": "markdown",
   "id": "3234acbc",
   "metadata": {},
   "source": [
    "## Data Ingestion Trials "
   ]
  },
  {
   "cell_type": "code",
   "execution_count": 17,
   "id": "0b21235f",
   "metadata": {},
   "outputs": [],
   "source": [
    "import os "
   ]
  },
  {
   "cell_type": "code",
   "execution_count": 18,
   "id": "b6d7a022",
   "metadata": {},
   "outputs": [],
   "source": [
    "os.chdir(r\"C:\\Users\\Junior\\Desktop\\Predictive-Policing-Advisory\")"
   ]
  },
  {
   "cell_type": "markdown",
   "id": "8f143d39",
   "metadata": {},
   "source": [
    "## Trial runs for entity_config"
   ]
  },
  {
   "cell_type": "code",
   "execution_count": 19,
   "id": "3ae9dc64",
   "metadata": {},
   "outputs": [],
   "source": [
    "from dataclasses import dataclass\n",
    "from pathlib import Path\n",
    "\n",
    "@dataclass(frozen=True)\n",
    "class DataValidationConfig:\n",
    "    root_dir: Path\n",
    "    STATUS_FILE: str\n",
    "    unzip_data_dir: Path \n",
    "    all_schema: dict"
   ]
  },
  {
   "cell_type": "markdown",
   "id": "39194731",
   "metadata": {},
   "source": [
    "## Trial runs for Configuration file"
   ]
  },
  {
   "cell_type": "code",
   "execution_count": 20,
   "id": "630b4c67",
   "metadata": {},
   "outputs": [],
   "source": [
    "#importing all project paths and modules necessary for project configurations \n",
    "from predictivePolicing.constants import  *\n",
    "from predictivePolicing.utils.common import read_yaml, create_directories"
   ]
  },
  {
   "cell_type": "code",
   "execution_count": 21,
   "id": "be660b4a",
   "metadata": {},
   "outputs": [],
   "source": [
    "#Updating the configuration file \n",
    "class ConfigurationManager:\n",
    "    def __init__(\n",
    "        self, \n",
    "        config_filepath = CONFIG_FILE_PATH, \n",
    "        params_filepath = PARAMS_FILE_PATH,\n",
    "        schema_filepath = SCHEMA_FILE_PATH):\n",
    "\n",
    "        self.config = read_yaml(config_filepath)\n",
    "        self.params = read_yaml(params_filepath)\n",
    "        self.schema = read_yaml(schema_filepath)\n",
    "       \n",
    "        create_directories([self.config.artifacts_root])\n",
    "    \n",
    "    def get_data_validation_config(self) -> DataValidationConfig:\n",
    "        config = self.config.data_validation\n",
    "        schema = self.schema.COLUMNS\n",
    "        \n",
    "        create_directories([config.root_dir])\n",
    "        \n",
    "        data_validation_config = DataValidationConfig(\n",
    "            root_dir=config.root_dir,\n",
    "            STATUS_FILE=config.STATUS_FILE,\n",
    "            unzip_data_dir=config.unzip_data_dir, \n",
    "            all_schema=schema\n",
    "        )\n",
    "        return data_validation_config"
   ]
  },
  {
   "cell_type": "markdown",
   "id": "a46e014a",
   "metadata": {},
   "source": [
    "## Trial-runs for data_validation component "
   ]
  },
  {
   "cell_type": "code",
   "execution_count": 22,
   "id": "3dfa1191",
   "metadata": {},
   "outputs": [],
   "source": [
    "import os \n",
    "from predictivePolicing import logger\n",
    "import pandas as pd "
   ]
  },
  {
   "cell_type": "code",
   "execution_count": null,
   "id": "a1d0b1aa",
   "metadata": {},
   "outputs": [],
   "source": [
    "class DataValidation: \n",
    "    def __init__(self, config: DataValidationConfig):\n",
    "        self.config = config\n",
    "    \n",
    "    def validate_all_columns(self) -> bool:\n",
    "        try: \n",
    "            data = pd.read_csv(self.config.unzip_data_dir)\n",
    "            all_cols = list(data.columns)\n",
    "            all_schema = self.config.all_schema.keys()\n",
    "            \n",
    "            # Assume validation passes first\n",
    "            validation_status = True  \n",
    "\n",
    "            for col in all_cols:\n",
    "                if col not in all_schema:\n",
    "                    validation_status = False\n",
    "                    break   # No need to keep checking once a mismatch is found\n",
    "\n",
    "            # Always write the status file\n",
    "            with open(self.config.STATUS_FILE, \"w\") as f:\n",
    "                f.write(f\"Validation Status: {validation_status}\")\n",
    "\n",
    "            return validation_status\n",
    "\n",
    "        except Exception as e: \n",
    "            raise e\n",
    "                    "
   ]
  },
  {
   "cell_type": "markdown",
   "id": "09f30aed",
   "metadata": {},
   "source": [
    "## Trial-runs for data_validation pipeline"
   ]
  },
  {
   "cell_type": "code",
   "execution_count": 26,
   "id": "6b6a6cf9",
   "metadata": {},
   "outputs": [
    {
     "name": "stdout",
     "output_type": "stream",
     "text": [
      "[2025-09-03 08:21:55,826: INFO: common: yaml_file: config\\config.yaml loaded successfully]\n",
      "[2025-09-03 08:21:55,829: INFO: common: yaml_file: params.yaml loaded successfully]\n",
      "[2025-09-03 08:21:55,836: INFO: common: yaml_file: schema.yaml loaded successfully]\n",
      "[2025-09-03 08:21:55,839: INFO: common: Created directory at: artifacts]\n",
      "[2025-09-03 08:21:55,841: INFO: common: Created directory at: artifacts/data_validation]\n"
     ]
    }
   ],
   "source": [
    "try: \n",
    "    config = ConfigurationManager()\n",
    "    data_validation_config = config.get_data_validation_config()\n",
    "    data_validation = DataValidation(config=data_validation_config)\n",
    "    data_validation.validate_all_columns()\n",
    "except Exception as e:\n",
    "    raise e"
   ]
  }
 ],
 "metadata": {
  "kernelspec": {
   "display_name": "predictivePolicing",
   "language": "python",
   "name": "python3"
  },
  "language_info": {
   "codemirror_mode": {
    "name": "ipython",
    "version": 3
   },
   "file_extension": ".py",
   "mimetype": "text/x-python",
   "name": "python",
   "nbconvert_exporter": "python",
   "pygments_lexer": "ipython3",
   "version": "3.10.16"
  }
 },
 "nbformat": 4,
 "nbformat_minor": 5
}
