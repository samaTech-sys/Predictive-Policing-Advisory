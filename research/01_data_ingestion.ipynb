{
 "cells": [
  {
   "cell_type": "markdown",
   "id": "64a27e28",
   "metadata": {},
   "source": [
    "## Data Ingestion Step"
   ]
  },
  {
   "cell_type": "code",
   "execution_count": 49,
   "id": "56c7b9b7",
   "metadata": {},
   "outputs": [],
   "source": [
    "import os"
   ]
  },
  {
   "cell_type": "code",
   "execution_count": 50,
   "id": "6ca1d8aa",
   "metadata": {},
   "outputs": [],
   "source": [
    "os.chdir(r\"C:\\Users\\Junior\\Desktop\\Predictive-Policing-Advisory\")"
   ]
  },
  {
   "cell_type": "markdown",
   "id": "53642e8f",
   "metadata": {},
   "source": [
    "## Trail-runs for enity_config"
   ]
  },
  {
   "cell_type": "code",
   "execution_count": 51,
   "id": "c9b9fdc8",
   "metadata": {},
   "outputs": [],
   "source": [
    "from dataclasses import dataclass\n",
    "from pathlib import Path\n",
    "\n",
    "@dataclass(frozen=True)\n",
    "class DataIngestionConfig:\n",
    "    root_dir: Path\n",
    "    source_url: str\n",
    "    local_data_file: Path \n",
    "    unzip_dir: Path   "
   ]
  },
  {
   "cell_type": "markdown",
   "id": "73b8bb74",
   "metadata": {},
   "source": [
    "## Trial runs for Configuration file"
   ]
  },
  {
   "cell_type": "code",
   "execution_count": 52,
   "id": "d32a7eeb",
   "metadata": {},
   "outputs": [],
   "source": [
    "#importing all project paths and modules necessary for project configurations \n",
    "from predictivePolicing.constants import  *\n",
    "from predictivePolicing.utils.common import read_yaml, create_directories"
   ]
  },
  {
   "cell_type": "code",
   "execution_count": 53,
   "id": "61d42b4b",
   "metadata": {},
   "outputs": [],
   "source": [
    "#Updating the configuration file \n",
    "class ConfigurationManager:\n",
    "    def __init__(\n",
    "        self, \n",
    "        config_filepath = CONFIG_FILE_PATH, \n",
    "        params_filepath = PARAMS_FILE_PATH,\n",
    "        schema_filepath = SCHEMA_FILE_PATH):\n",
    "\n",
    "        self.config = read_yaml(config_filepath)\n",
    "        self.params = read_yaml(params_filepath)\n",
    "        self.schema = read_yaml(schema_filepath)\n",
    "       \n",
    "        create_directories([self.config.artifacts_root])\n",
    "    \n",
    "    def get_data_ingestion_config(self) -> DataIngestionConfig:\n",
    "        config = self.config.data_ingestion\n",
    "        create_directories([config.root_dir])\n",
    "        \n",
    "        data_ingestion_config = DataIngestionConfig(\n",
    "            root_dir=config.root_dir,\n",
    "            source_url=config.source_url,\n",
    "            local_data_file=config.local_data_file, \n",
    "            unzip_dir=config.unzip_dir\n",
    "        )\n",
    "        return data_ingestion_config"
   ]
  },
  {
   "cell_type": "markdown",
   "id": "557ed699",
   "metadata": {},
   "source": [
    "## Trial runs for data_ingestion component"
   ]
  },
  {
   "cell_type": "code",
   "execution_count": 54,
   "id": "f8eb0d42",
   "metadata": {},
   "outputs": [],
   "source": [
    "import os\n",
    "from urllib import request\n",
    "import zipfile\n",
    "from predictivePolicing import logger\n",
    "from predictivePolicing.utils.common import get_size"
   ]
  },
  {
   "cell_type": "code",
   "execution_count": 55,
   "id": "053e7a0b",
   "metadata": {},
   "outputs": [],
   "source": [
    "#Unpdate Components step\n",
    "class DataIngestion:\n",
    "    def __init__(self, config:DataIngestionConfig):\n",
    "        self.config = config\n",
    "        \n",
    "    def download_file(self):\n",
    "        if not os.path.exists(self.config.local_data_file):\n",
    "            filename, headers = request.urlretrieve(\n",
    "                url=self.config.source_url, \n",
    "                filename = self.config.local_data_file\n",
    "            )\n",
    "            logger.info(f\"{filename} download! with the following info: n\\{headers}\")\n",
    "        else: \n",
    "            logger.info(f\"File already exists: {get_size(Path(self.config.local_data_file))}\")\n",
    "        print(\"Downloding\", self.config.source_url)\n",
    "            \n",
    "    def extract_zip_file(self):\n",
    "        \"\"\"\n",
    "        zip_file_path: str\n",
    "        Extracts zip file into directory \n",
    "        Function returne none\n",
    "        \n",
    "        \"\"\"\n",
    "        \n",
    "        unzip_path = self.config.unzip_dir\n",
    "        # Print the actual path of the local data file and unzip directory\n",
    "        print(f\"Extracting file from: {self.config.local_data_file}\")\n",
    "        print(f\"Unzip path: {unzip_path}\")\n",
    "\n",
    "        os.makedirs(unzip_path, exist_ok=True)\n",
    "        with zipfile.ZipFile(self.config.local_data_file, \"r\") as zip_ref:\n",
    "            zip_ref.extractall(unzip_path)"
   ]
  },
  {
   "cell_type": "markdown",
   "id": "626713c8",
   "metadata": {},
   "source": [
    "## Trial runs for data Ingestion Pipeline"
   ]
  },
  {
   "cell_type": "code",
   "execution_count": 56,
   "id": "5f24069d",
   "metadata": {},
   "outputs": [
    {
     "name": "stdout",
     "output_type": "stream",
     "text": [
      "[2025-09-03 08:16:19,462: INFO: common: yaml_file: config\\config.yaml loaded successfully]\n",
      "[2025-09-03 08:16:19,466: INFO: common: yaml_file: params.yaml loaded successfully]\n",
      "[2025-09-03 08:16:19,471: INFO: common: yaml_file: schema.yaml loaded successfully]\n",
      "[2025-09-03 08:16:19,473: INFO: common: Created directory at: artifacts]\n",
      "[2025-09-03 08:16:19,475: INFO: common: Created directory at: artifacts/data_ingestion]\n",
      "[2025-09-03 08:16:21,468: INFO: 1819630040: artifacts/data_ingestion/data.zip download! with the following info: n\\Connection: close\n",
      "Content-Length: 298817\n",
      "Cache-Control: max-age=300\n",
      "Content-Security-Policy: default-src 'none'; style-src 'unsafe-inline'; sandbox\n",
      "Content-Type: application/zip\n",
      "ETag: \"75d46864624e490fa78ee0fbdff0eaa2f41c702efcf0d9daf98d092f01ca911f\"\n",
      "Strict-Transport-Security: max-age=31536000\n",
      "X-Content-Type-Options: nosniff\n",
      "X-Frame-Options: deny\n",
      "X-XSS-Protection: 1; mode=block\n",
      "X-GitHub-Request-Id: E143:1F17A:116A:489B:68B85B57\n",
      "Accept-Ranges: bytes\n",
      "Date: Wed, 03 Sep 2025 15:16:21 GMT\n",
      "Via: 1.1 varnish\n",
      "X-Served-By: cache-jnb7026-JNB\n",
      "X-Cache: HIT\n",
      "X-Cache-Hits: 1\n",
      "X-Timer: S1756912582.550423,VS0,VE1\n",
      "Vary: Authorization,Accept-Encoding\n",
      "Access-Control-Allow-Origin: *\n",
      "Cross-Origin-Resource-Policy: cross-origin\n",
      "X-Fastly-Request-ID: d905c9ba4c90b722372d1aa0c3f030699c491770\n",
      "Expires: Wed, 03 Sep 2025 15:21:21 GMT\n",
      "Source-Age: 108\n",
      "\n",
      "]\n",
      "Downloding https://github.com/samaTech-sys/Predictive-Policing-Advisory/raw/main/Kampala_Theft_Dataset.zip\n",
      "Extracting file from: artifacts/data_ingestion/data.zip\n",
      "Unzip path: artifacts/data_ingestion\n"
     ]
    }
   ],
   "source": [
    "#Update pipeline Step \n",
    "try: \n",
    "    config = ConfigurationManager()\n",
    "    data_ingestion_config =config.get_data_ingestion_config()\n",
    "    data_ingestion = DataIngestion(config=data_ingestion_config)\n",
    "    data_ingestion.download_file()\n",
    "    data_ingestion.extract_zip_file()\n",
    "except Exception as e:\n",
    "    raise e"
   ]
  }
 ],
 "metadata": {
  "kernelspec": {
   "display_name": "predictivePolicing",
   "language": "python",
   "name": "python3"
  },
  "language_info": {
   "codemirror_mode": {
    "name": "ipython",
    "version": 3
   },
   "file_extension": ".py",
   "mimetype": "text/x-python",
   "name": "python",
   "nbconvert_exporter": "python",
   "pygments_lexer": "ipython3",
   "version": "3.10.16"
  }
 },
 "nbformat": 4,
 "nbformat_minor": 5
}
